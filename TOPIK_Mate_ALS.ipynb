{
  "nbformat": 4,
  "nbformat_minor": 0,
  "metadata": {
    "colab": {
      "private_outputs": true,
      "provenance": []
    },
    "kernelspec": {
      "name": "python3",
      "display_name": "Python 3"
    },
    "language_info": {
      "name": "python"
    }
  },
  "cells": [
    {
      "cell_type": "markdown",
      "source": [
        "# Pyspark의 ALS 활용하기\n",
        "### https://techblog-history-younghunjo1.tistory.com/161 참고"
      ],
      "metadata": {
        "id": "jgYC7uwBEGCE"
      }
    },
    {
      "cell_type": "code",
      "execution_count": null,
      "metadata": {
        "id": "03fbLQ4Z88eF"
      },
      "outputs": [],
      "source": [
        "import sklearn\n",
        "import random"
      ]
    },
    {
      "cell_type": "code",
      "source": [
        "!apt-get install openjdk-8-jdk-headless"
      ],
      "metadata": {
        "id": "LgB8TeDk_htI"
      },
      "execution_count": null,
      "outputs": []
    },
    {
      "cell_type": "code",
      "source": [
        "!wget -q https://downloads.apache.org/spark/spark-3.2.4/spark-3.2.4-bin-hadoop3.2.tgz"
      ],
      "metadata": {
        "id": "HEIiQtwo_2NH"
      },
      "execution_count": null,
      "outputs": []
    },
    {
      "cell_type": "code",
      "source": [
        "!tar -xvf spark-3.2.4-bin-hadoop3.2.tgz"
      ],
      "metadata": {
        "id": "a-t93o-WARKb"
      },
      "execution_count": null,
      "outputs": []
    },
    {
      "cell_type": "code",
      "source": [
        "!pip install findspark"
      ],
      "metadata": {
        "id": "UisCLiVy_3dD"
      },
      "execution_count": null,
      "outputs": []
    },
    {
      "cell_type": "code",
      "source": [
        "import os\n",
        "\n",
        "os.environ[\"JAVA_HOME\"] = \"/usr/lib/jvm/java-8-openjdk-amd64\"\n",
        "os.environ[\"SPARK_HOME\"] = \"/content/spark-3.2.4-bin-hadoop3.2\""
      ],
      "metadata": {
        "id": "3iMInY1x_plS"
      },
      "execution_count": null,
      "outputs": []
    },
    {
      "cell_type": "code",
      "source": [
        "import findspark\n",
        "findspark.init()"
      ],
      "metadata": {
        "id": "_QAOnHcg_ww-"
      },
      "execution_count": null,
      "outputs": []
    },
    {
      "cell_type": "code",
      "source": [],
      "metadata": {
        "id": "wO5jjCYF_yw0"
      },
      "execution_count": null,
      "outputs": []
    },
    {
      "cell_type": "code",
      "source": [
        "import sklearn\n",
        "import random\n",
        "\n",
        "# Pysparkk Library #\n",
        "# SQL\n",
        "from pyspark import SparkConf, SparkContext\n",
        "\n",
        "from pyspark.sql import SparkSession\n",
        "from pyspark.sql import SQLContext\n",
        "from pyspark.sql.functions import mean, col, split, regexp_extract, when, lit\n",
        "from pyspark.sql.types import *\n",
        "\n",
        "from pyspark.ml import Pipeline\n",
        "from pyspark.ml.feature import StringIndexer, VectorAssembler, IndexToString\n",
        "from pyspark.ml.feature import QuantileDiscretizer\n",
        "from pyspark.ml.evaluation import MulticlassClassificationEvaluator\n"
      ],
      "metadata": {
        "id": "MOPOj1GO-rIP"
      },
      "execution_count": null,
      "outputs": []
    },
    {
      "cell_type": "code",
      "source": [
        "# 스파크 세션 만들기\n",
        "spark = SparkSession\\\n",
        "        .builder\\\n",
        "        .appName('TOPIK Mate ALS')\\\n",
        "        .getOrCreate()"
      ],
      "metadata": {
        "id": "AcEi60jO--XH"
      },
      "execution_count": null,
      "outputs": []
    },
    {
      "cell_type": "code",
      "source": [
        "import os\n",
        "import pandas as pd\n",
        "import numpy as np"
      ],
      "metadata": {
        "id": "eiHqp_FVG3Yi"
      },
      "execution_count": null,
      "outputs": []
    },
    {
      "cell_type": "code",
      "source": [
        "# 사용자 데이터\n",
        "users = pd.read_csv('/content/drive/MyDrive/캡스톤디자인_공유폴더/datas/contents/users.csv')"
      ],
      "metadata": {
        "id": "Opg8kCOdDYvb"
      },
      "execution_count": null,
      "outputs": []
    },
    {
      "cell_type": "code",
      "source": [
        "users.drop([0], axis=0, inplace=True)\n",
        "users.sample(20)"
      ],
      "metadata": {
        "id": "ey7Yt0TwEm2Q"
      },
      "execution_count": null,
      "outputs": []
    },
    {
      "cell_type": "code",
      "source": [],
      "metadata": {
        "id": "RLHHfvya8o8A"
      },
      "execution_count": null,
      "outputs": []
    },
    {
      "cell_type": "code",
      "source": [
        "# 문제 데이터\n",
        "problems = pd.read_csv('/content/drive/MyDrive/캡스톤디자인_공유폴더/datas/contents/questions.csv')\n",
        "problems.sample(20)"
      ],
      "metadata": {
        "id": "lUdJDplIEZ24"
      },
      "execution_count": null,
      "outputs": []
    },
    {
      "cell_type": "code",
      "source": [
        "# 답안과 합치기 - pandas.merge()\n",
        "\n",
        "solved = pd.merge(users, problems)\n",
        "solved.head()"
      ],
      "metadata": {
        "id": "kfgPRlh3FSgn"
      },
      "execution_count": null,
      "outputs": []
    },
    {
      "cell_type": "code",
      "source": [
        "del users\n",
        "del problems"
      ],
      "metadata": {
        "id": "aYSV1b50yp5l"
      },
      "execution_count": null,
      "outputs": []
    },
    {
      "cell_type": "code",
      "source": [
        "solved['elapsed_time'] = pd.to_numeric(solved['elapsed_time'])\n",
        "solved.head()"
      ],
      "metadata": {
        "id": "tbJKm4dq2Lrl"
      },
      "execution_count": null,
      "outputs": []
    },
    {
      "cell_type": "code",
      "source": [
        "# 문제 ID 별 분류\n",
        "questions = solved.groupby(solved.question_id)\n",
        "questions.size()"
      ],
      "metadata": {
        "id": "_bqt56XSFVHG"
      },
      "execution_count": null,
      "outputs": []
    },
    {
      "cell_type": "code",
      "source": [
        "del solved"
      ],
      "metadata": {
        "id": "me1CSMg0Sae4"
      },
      "execution_count": null,
      "outputs": []
    },
    {
      "cell_type": "code",
      "source": [
        "result_df = pd.DataFrame()\n",
        "\n",
        "# 그룹별 정/오답 그룹 정규 분포화\n",
        "idx = 0\n",
        "for key, group in questions:\n",
        "\n",
        "    if (idx == 1):\n",
        "        break;\n",
        "\n",
        "    # print(f'[{key}] ============= ')\n",
        "\n",
        "    # group = questions.get_group(key)\n",
        "\n",
        "    # 정답 그룹\n",
        "    correct_group = group[group['user_answer'] == group['correct_answer']]\n",
        "    # 오답 그룹\n",
        "    wrong_group = group[group['user_answer'] != group['correct_answer']]\n",
        "\n",
        "    # print(f'group.shape: {group.shape}, correct_group.shape: {correct_group.shape}, wrong_group.shape: {wrong_group.shape}')\n",
        "\n",
        "    pivot = 0\n",
        "    # 정답 그룹 pivot 값\n",
        "    if correct_group.size > 0:\n",
        "\n",
        "        # N% 구간의 기준값 찾기\n",
        "        pivot = np.percentile(correct_group['elapsed_time'], 15)\n",
        "        try:\n",
        "            correct_group.loc[correct_group['elapsed_time'] <= pivot, 'label'] = 1\n",
        "            correct_group.loc[correct_group['elapsed_time'] > pivot, 'label'] = 2\n",
        "        except ValueError as e:\n",
        "            print('error: ', e)\n",
        "\n",
        "        result_df = pd.concat([result_df, correct_group], axis=0)\n",
        "\n",
        "    # print('correct_group: ', correct_group)\n",
        "\n",
        "    # labeled1 = correct_group\n",
        "    # labeled1['label'] = np.where(labeled1['elapsed_time'] <= pivot, 1, 2)\n",
        "\n",
        "\n",
        "    pivot2 = 0\n",
        "    # 오답 그룹 pivot 값\n",
        "    if wrong_group.size > 0:\n",
        "        pivot2 = np.percentile(wrong_group['elapsed_time'], 15)\n",
        "        try:\n",
        "            wrong_group.loc[wrong_group['elapsed_time'] <= pivot2, 'label'] = 5\n",
        "            wrong_group.loc[wrong_group['elapsed_time'] > pivot2, 'label'] = 4\n",
        "        except ValueError as e:\n",
        "            print('error: ', e)\n",
        "        result_df = pd.concat([result_df, wrong_group], axis=0)\n",
        "\n",
        "\n",
        "    # print('wrong_group: ', wrong_group)\n",
        "    # labeled2 = wrong_group\n",
        "    # labeled2['label'] = np.where(labeled2['elapsed_time'] <= pivot2, 5, 4)\n",
        "\n",
        "\n",
        "    # merge\n",
        "    # temp = pd.concat([labeled1, labeled2], axis=0)\n",
        "    # temp = pd.concat([correct_group, wrong_group], axis=0)\n",
        "\n",
        "    idx += 1\n"
      ],
      "metadata": {
        "id": "rQzjUFFeFwJb"
      },
      "execution_count": null,
      "outputs": []
    },
    {
      "cell_type": "code",
      "source": [
        "del questions"
      ],
      "metadata": {
        "id": "-nDfA0rO4GaH"
      },
      "execution_count": null,
      "outputs": []
    },
    {
      "cell_type": "code",
      "source": [
        "result_df.sample(10)"
      ],
      "metadata": {
        "id": "GRHH88cvHVkG"
      },
      "execution_count": null,
      "outputs": []
    },
    {
      "cell_type": "code",
      "source": [
        "# ALS 추천 알고리즘\n",
        "from pyspark.ml.recommendation import ALS"
      ],
      "metadata": {
        "id": "24eF33H3F_Gt"
      },
      "execution_count": null,
      "outputs": []
    },
    {
      "cell_type": "code",
      "source": [
        "# 스키마 정의\n",
        "df_schema = StructType([StructField(\"user_id\", StringType(), True)\\\n",
        "                        ,StructField(\"solving_id\", StringType(), True)\\\n",
        "                        ,StructField(\"question_id\", StringType(), True)\\\n",
        "                        ,StructField(\"user_answer\", StringType(), True)\\\n",
        "                        ,StructField(\"elapsed_time\", StringType(), True)\\\n",
        "                        ,StructField(\"bundle_id\", StringType(), True)\\\n",
        "                        ,StructField(\"explanation_id\", StringType(), True)\\\n",
        "                        ,StructField(\"correct_answer\", StringType(), True)\\\n",
        "                        ,StructField(\"part\", StringType(), True)\\\n",
        "                        ,StructField(\"tags\", StringType(), True)\\\n",
        "                        ,StructField(\"deployed_at\", LongType(), True)\\\n",
        "                        ,StructField(\"elapsed_time_num\", IntegerType(), True)\\\n",
        "                        ,StructField(\"label\", FloatType(), True)])\n",
        "\n",
        "# Pandas -> Spark 변환\n",
        "spark_df = spark.createDataFrame(result_df, schema=df_schema)\n",
        "display(spark_df)"
      ],
      "metadata": {
        "id": "Ztrf8-dpBCfj"
      },
      "execution_count": null,
      "outputs": []
    },
    {
      "cell_type": "code",
      "source": [
        "# 문자열인 user_id, question_id를 수치형 데이터로 바꾸기\n",
        "stringIndexer = StringIndexer(inputCols=['user_id', 'question_id'],\n",
        "                              outputCols=['user_id_num', 'question_id_num'])\n",
        "encoded_df = stringIndexer.fit(spark_df)\n",
        "encoded_df = transform(encoded_df)\n"
      ],
      "metadata": {
        "id": "7LseFzgALgjC"
      },
      "execution_count": null,
      "outputs": []
    },
    {
      "cell_type": "code",
      "source": [
        "encoded_df2.limit(5).show()"
      ],
      "metadata": {
        "id": "pz_5QdsJNko8"
      },
      "execution_count": null,
      "outputs": []
    },
    {
      "cell_type": "code",
      "source": [
        "# 학습, 테스트 데이터 분리\n",
        "train, test = encoded_df.randomSplit([0.75, 0.25])"
      ],
      "metadata": {
        "id": "cusEH9o6KvFQ"
      },
      "execution_count": null,
      "outputs": []
    },
    {
      "cell_type": "code",
      "source": [
        "rec = ALS(maxIter = 10,\n",
        "          regParam = 0.01,\n",
        "          userCol = 'user_id',\n",
        "          itemCol = 'question_id',\n",
        "          ratingCol = 'label',\n",
        "          nonnegative = True,\n",
        "          coldStartStrategy='drop')\n",
        "\n",
        "\n",
        "# ALS 모델 학습 -> dataframe을 넣어주기\n",
        "rec_model = rec.fit(train)\n",
        "\n",
        "# trainsform을 이용해 예측 -> dataframe을 넣어주기\n",
        "pred_labels = rec_model.transform(test)\n",
        "pred_labels.limit(5).toPandas()"
      ],
      "metadata": {
        "id": "WIaiG9hJ7Wg0"
      },
      "execution_count": null,
      "outputs": []
    },
    {
      "cell_type": "code",
      "source": [],
      "metadata": {
        "id": "b6ZKfaul8AV1"
      },
      "execution_count": null,
      "outputs": []
    }
  ]
}